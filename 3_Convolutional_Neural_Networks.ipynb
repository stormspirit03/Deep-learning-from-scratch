{
  "nbformat": 4,
  "nbformat_minor": 0,
  "metadata": {
    "colab": {
      "name": "3.Convolutional_Neural_Networks.ipynb",
      "provenance": []
    },
    "language_info": {
      "mimetype": "text/x-python",
      "nbconvert_exporter": "python",
      "name": "python",
      "file_extension": ".py",
      "version": "3.5.4",
      "pygments_lexer": "ipython3",
      "codemirror_mode": {
        "version": 3,
        "name": "ipython"
      }
    },
    "kernelspec": {
      "name": "python3",
      "display_name": "Python 3"
    },
    "accelerator": "TPU"
  },
  "cells": [
    {
      "cell_type": "markdown",
      "metadata": {
        "id": "n74GQtzgczHe",
        "colab_type": "text"
      },
      "source": [
        "# Part 1: Convolutional Neural Network"
      ]
    },
    {
      "cell_type": "markdown",
      "metadata": {
        "id": "UolsLXSQczHh",
        "colab_type": "text"
      },
      "source": [
        "###  Importing packages"
      ]
    },
    {
      "cell_type": "code",
      "metadata": {
        "trusted": true,
        "id": "kwe0QooaczHk",
        "colab_type": "code",
        "outputId": "02acba47-922f-4392-8592-d913060123f7",
        "colab": {
          "base_uri": "https://localhost:8080/",
          "height": 34
        }
      },
      "source": [
        "import numpy as np\n",
        "import keras\n",
        "from keras.datasets import mnist\n",
        "from keras.models import Sequential\n",
        "from keras.layers import Dense, Dropout, Flatten, Conv2D, MaxPooling2D\n",
        "from keras import backend as K\n",
        "from keras.preprocessing import image\n",
        "from keras.applications.mobilenet import MobileNet\n",
        "from keras.applications.vgg16 import preprocess_input, decode_predictions\n",
        "from keras.models import Model\n",
        "import timeit\n",
        "\n",
        "import warnings\n",
        "warnings.filterwarnings('ignore')"
      ],
      "execution_count": 0,
      "outputs": [
        {
          "output_type": "stream",
          "text": [
            "Using TensorFlow backend.\n"
          ],
          "name": "stderr"
        }
      ]
    },
    {
      "cell_type": "markdown",
      "metadata": {
        "id": "thEIzUfFczHy",
        "colab_type": "text"
      },
      "source": [
        "### Preparing Dataset"
      ]
    },
    {
      "cell_type": "code",
      "metadata": {
        "trusted": true,
        "id": "-s6iKY5QczH0",
        "colab_type": "code",
        "outputId": "1c24240d-370e-4212-ef09-dfeb7beab7e2",
        "colab": {
          "base_uri": "https://localhost:8080/",
          "height": 101
        }
      },
      "source": [
        "batch_size = 128\n",
        "num_classes = 10\n",
        "epochs = 2\n",
        "\n",
        "# input image dimensions\n",
        "img_rows, img_cols = 28, 28\n",
        "\n",
        "# the data, shuffled and split between train and test sets\n",
        "(x_train, y_train), (x_test, y_test) = mnist.load_data()\n",
        "\n",
        "if K.image_data_format() == 'channels_first':\n",
        "    x_train = x_train.reshape(x_train.shape[0], 1, img_rows, img_cols)\n",
        "    x_test = x_test.reshape(x_test.shape[0], 1, img_rows, img_cols)\n",
        "    input_shape = (1, img_rows, img_cols)\n",
        "else:\n",
        "    x_train = x_train.reshape(x_train.shape[0], img_rows, img_cols, 1)\n",
        "    x_test = x_test.reshape(x_test.shape[0], img_rows, img_cols, 1)\n",
        "    input_shape = (img_rows, img_cols, 1)\n",
        "\n",
        "x_train = x_train.astype('float32')\n",
        "x_test = x_test.astype('float32')\n",
        "x_train /= 255\n",
        "x_test /= 255\n",
        "print('x_train shape:', x_train.shape)\n",
        "print(x_train.shape[0], 'train samples')\n",
        "print(x_test.shape[0], 'test samples')\n",
        "\n",
        "# convert class vectors to binary class matrices\n",
        "y_train = keras.utils.to_categorical(y_train, num_classes)\n",
        "y_test = keras.utils.to_categorical(y_test, num_classes)"
      ],
      "execution_count": 0,
      "outputs": [
        {
          "output_type": "stream",
          "text": [
            "Downloading data from https://s3.amazonaws.com/img-datasets/mnist.npz\n",
            "11493376/11490434 [==============================] - 0s 0us/step\n",
            "x_train shape: (60000, 28, 28, 1)\n",
            "60000 train samples\n",
            "10000 test samples\n"
          ],
          "name": "stdout"
        }
      ]
    },
    {
      "cell_type": "markdown",
      "metadata": {
        "id": "rPF6kdOcczH9",
        "colab_type": "text"
      },
      "source": [
        "### Building a Model"
      ]
    },
    {
      "cell_type": "code",
      "metadata": {
        "trusted": true,
        "id": "z9ucKr9WczH-",
        "colab_type": "code",
        "outputId": "b389631f-17d1-4a88-9cdf-116ae28b0326",
        "colab": {
          "base_uri": "https://localhost:8080/",
          "height": 692
        }
      },
      "source": [
        "model = Sequential()\n",
        "model.add(Conv2D(8, kernel_size=(3, 3), activation='relu', input_shape=input_shape))\n",
        "model.add(MaxPooling2D(pool_size=(2, 2)))\n",
        "model.add(Conv2D(16, (3, 3), activation='relu'))\n",
        "model.add(MaxPooling2D(pool_size=(2, 2)))\n",
        "model.add(Dropout(0.25))\n",
        "model.add(Flatten())\n",
        "model.add(Dense(32, activation='relu'))\n",
        "model.add(Dropout(0.5))\n",
        "model.add(Dense(num_classes, activation='softmax'))\n",
        "model.summary()"
      ],
      "execution_count": 0,
      "outputs": [
        {
          "output_type": "stream",
          "text": [
            "WARNING:tensorflow:From /usr/local/lib/python3.6/dist-packages/keras/backend/tensorflow_backend.py:66: The name tf.get_default_graph is deprecated. Please use tf.compat.v1.get_default_graph instead.\n",
            "\n",
            "WARNING:tensorflow:From /usr/local/lib/python3.6/dist-packages/keras/backend/tensorflow_backend.py:541: The name tf.placeholder is deprecated. Please use tf.compat.v1.placeholder instead.\n",
            "\n",
            "WARNING:tensorflow:From /usr/local/lib/python3.6/dist-packages/keras/backend/tensorflow_backend.py:4432: The name tf.random_uniform is deprecated. Please use tf.random.uniform instead.\n",
            "\n",
            "WARNING:tensorflow:From /usr/local/lib/python3.6/dist-packages/keras/backend/tensorflow_backend.py:4267: The name tf.nn.max_pool is deprecated. Please use tf.nn.max_pool2d instead.\n",
            "\n",
            "WARNING:tensorflow:From /usr/local/lib/python3.6/dist-packages/keras/backend/tensorflow_backend.py:148: The name tf.placeholder_with_default is deprecated. Please use tf.compat.v1.placeholder_with_default instead.\n",
            "\n",
            "WARNING:tensorflow:From /usr/local/lib/python3.6/dist-packages/keras/backend/tensorflow_backend.py:3733: calling dropout (from tensorflow.python.ops.nn_ops) with keep_prob is deprecated and will be removed in a future version.\n",
            "Instructions for updating:\n",
            "Please use `rate` instead of `keep_prob`. Rate should be set to `rate = 1 - keep_prob`.\n",
            "Model: \"sequential_1\"\n",
            "_________________________________________________________________\n",
            "Layer (type)                 Output Shape              Param #   \n",
            "=================================================================\n",
            "conv2d_1 (Conv2D)            (None, 26, 26, 8)         80        \n",
            "_________________________________________________________________\n",
            "max_pooling2d_1 (MaxPooling2 (None, 13, 13, 8)         0         \n",
            "_________________________________________________________________\n",
            "conv2d_2 (Conv2D)            (None, 11, 11, 16)        1168      \n",
            "_________________________________________________________________\n",
            "max_pooling2d_2 (MaxPooling2 (None, 5, 5, 16)          0         \n",
            "_________________________________________________________________\n",
            "dropout_1 (Dropout)          (None, 5, 5, 16)          0         \n",
            "_________________________________________________________________\n",
            "flatten_1 (Flatten)          (None, 400)               0         \n",
            "_________________________________________________________________\n",
            "dense_1 (Dense)              (None, 32)                12832     \n",
            "_________________________________________________________________\n",
            "dropout_2 (Dropout)          (None, 32)                0         \n",
            "_________________________________________________________________\n",
            "dense_2 (Dense)              (None, 10)                330       \n",
            "=================================================================\n",
            "Total params: 14,410\n",
            "Trainable params: 14,410\n",
            "Non-trainable params: 0\n",
            "_________________________________________________________________\n"
          ],
          "name": "stdout"
        }
      ]
    },
    {
      "cell_type": "markdown",
      "metadata": {
        "id": "r2jKImxlczID",
        "colab_type": "text"
      },
      "source": [
        "### Model Training"
      ]
    },
    {
      "cell_type": "code",
      "metadata": {
        "trusted": true,
        "id": "1v1yo9kvczIF",
        "colab_type": "code",
        "outputId": "e8eb3512-952d-4cea-f044-5902adbd621f",
        "colab": {
          "base_uri": "https://localhost:8080/",
          "height": 524
        }
      },
      "source": [
        "model.compile(loss=keras.losses.categorical_crossentropy,\n",
        "              optimizer=keras.optimizers.Adadelta(),\n",
        "              metrics=['accuracy'])\n",
        "\n",
        "model.fit(x_train, y_train,\n",
        "          batch_size=batch_size,\n",
        "          epochs=epochs,\n",
        "          verbose=1,\n",
        "          validation_data=(x_test, y_test))"
      ],
      "execution_count": 0,
      "outputs": [
        {
          "output_type": "stream",
          "text": [
            "WARNING:tensorflow:From /usr/local/lib/python3.6/dist-packages/keras/optimizers.py:793: The name tf.train.Optimizer is deprecated. Please use tf.compat.v1.train.Optimizer instead.\n",
            "\n",
            "WARNING:tensorflow:From /usr/local/lib/python3.6/dist-packages/keras/backend/tensorflow_backend.py:3576: The name tf.log is deprecated. Please use tf.math.log instead.\n",
            "\n",
            "WARNING:tensorflow:From /usr/local/lib/python3.6/dist-packages/tensorflow_core/python/ops/math_grad.py:1424: where (from tensorflow.python.ops.array_ops) is deprecated and will be removed in a future version.\n",
            "Instructions for updating:\n",
            "Use tf.where in 2.0, which has the same broadcast rule as np.where\n",
            "WARNING:tensorflow:From /usr/local/lib/python3.6/dist-packages/keras/backend/tensorflow_backend.py:1033: The name tf.assign_add is deprecated. Please use tf.compat.v1.assign_add instead.\n",
            "\n",
            "WARNING:tensorflow:From /usr/local/lib/python3.6/dist-packages/keras/backend/tensorflow_backend.py:1020: The name tf.assign is deprecated. Please use tf.compat.v1.assign instead.\n",
            "\n",
            "WARNING:tensorflow:From /usr/local/lib/python3.6/dist-packages/keras/backend/tensorflow_backend.py:3005: The name tf.Session is deprecated. Please use tf.compat.v1.Session instead.\n",
            "\n",
            "Train on 60000 samples, validate on 10000 samples\n",
            "Epoch 1/2\n",
            "WARNING:tensorflow:From /usr/local/lib/python3.6/dist-packages/keras/backend/tensorflow_backend.py:190: The name tf.get_default_session is deprecated. Please use tf.compat.v1.get_default_session instead.\n",
            "\n",
            "WARNING:tensorflow:From /usr/local/lib/python3.6/dist-packages/keras/backend/tensorflow_backend.py:197: The name tf.ConfigProto is deprecated. Please use tf.compat.v1.ConfigProto instead.\n",
            "\n",
            "WARNING:tensorflow:From /usr/local/lib/python3.6/dist-packages/keras/backend/tensorflow_backend.py:207: The name tf.global_variables is deprecated. Please use tf.compat.v1.global_variables instead.\n",
            "\n",
            "WARNING:tensorflow:From /usr/local/lib/python3.6/dist-packages/keras/backend/tensorflow_backend.py:216: The name tf.is_variable_initialized is deprecated. Please use tf.compat.v1.is_variable_initialized instead.\n",
            "\n",
            "WARNING:tensorflow:From /usr/local/lib/python3.6/dist-packages/keras/backend/tensorflow_backend.py:223: The name tf.variables_initializer is deprecated. Please use tf.compat.v1.variables_initializer instead.\n",
            "\n",
            "60000/60000 [==============================] - 20s 333us/step - loss: 0.7773 - acc: 0.7356 - val_loss: 0.1477 - val_acc: 0.9583\n",
            "Epoch 2/2\n",
            "60000/60000 [==============================] - 19s 317us/step - loss: 0.4011 - acc: 0.8722 - val_loss: 0.1095 - val_acc: 0.9672\n"
          ],
          "name": "stdout"
        },
        {
          "output_type": "execute_result",
          "data": {
            "text/plain": [
              "<keras.callbacks.History at 0x7fc4d5ee7e80>"
            ]
          },
          "metadata": {
            "tags": []
          },
          "execution_count": 4
        }
      ]
    },
    {
      "cell_type": "markdown",
      "metadata": {
        "id": "TMnkp1N-czIM",
        "colab_type": "text"
      },
      "source": [
        "### Testing"
      ]
    },
    {
      "cell_type": "code",
      "metadata": {
        "trusted": true,
        "id": "nD8aqTGhczIN",
        "colab_type": "code",
        "outputId": "856d5b44-4862-4cad-f714-554986aacc92",
        "colab": {
          "base_uri": "https://localhost:8080/",
          "height": 50
        }
      },
      "source": [
        "score = model.evaluate(x_test, y_test, verbose=0)\n",
        "print('Test loss:', score[0])\n",
        "print('Test accuracy:', score[1])"
      ],
      "execution_count": 0,
      "outputs": [
        {
          "output_type": "stream",
          "text": [
            "Test loss: 0.10948751226365566\n",
            "Test accuracy: 0.9672\n"
          ],
          "name": "stdout"
        }
      ]
    },
    {
      "cell_type": "markdown",
      "metadata": {
        "id": "HwnxpfW5czIT",
        "colab_type": "text"
      },
      "source": [
        "### Prediction"
      ]
    },
    {
      "cell_type": "code",
      "metadata": {
        "trusted": true,
        "id": "IONumLDeczIU",
        "colab_type": "code",
        "outputId": "b8c9c1b9-d731-4e5f-b972-a930846f8dc0",
        "colab": {
          "base_uri": "https://localhost:8080/",
          "height": 265
        }
      },
      "source": [
        "import pylab as plt\n",
        "\n",
        "plt.imshow(x_test[130:131].reshape(28,28),cmap='gray')\n",
        "plt.show()"
      ],
      "execution_count": 0,
      "outputs": [
        {
          "output_type": "display_data",
          "data": {
            "image/png": "[encoded data removed]",
            "text/plain": [
              "<Figure size 432x288 with 1 Axes>"
            ]
          },
          "metadata": {
            "tags": []
          }
        }
      ]
    },
    {
      "cell_type": "code",
      "metadata": {
        "scrolled": true,
        "trusted": true,
        "id": "uCa1UTvxczIZ",
        "colab_type": "code",
        "outputId": "85e3bd4a-f67d-490d-ec6b-4567d007e1bc",
        "colab": {
          "base_uri": "https://localhost:8080/",
          "height": 168
        }
      },
      "source": [
        "import numpy as np\n",
        "prediction = model.predict(x_test[130:131])\n",
        "print('Prediction Score:\\n',prediction[0])\n",
        "thresholded = (prediction>0.5)*1\n",
        "print('\\nThresholded Score:\\n',thresholded[0])\n",
        "print('\\nPredicted Digit:\\n',np.where(thresholded == 1)[1][0])"
      ],
      "execution_count": 0,
      "outputs": [
        {
          "output_type": "stream",
          "text": [
            "Prediction Score:\n",
            " [1.1642782e-05 2.5801782e-07 5.2878295e-07 1.3905710e-09 4.0117655e-05\n",
            " 4.0563424e-05 9.9990594e-01 1.0051670e-10 1.0228567e-06 1.1346679e-08]\n",
            "\n",
            "Thresholded Score:\n",
            " [0 0 0 0 0 0 1 0 0 0]\n",
            "\n",
            "Predicted Digit:\n",
            " 6\n"
          ],
          "name": "stdout"
        }
      ]
    },
    {
      "cell_type": "markdown",
      "metadata": {
        "id": "FSRN0Nb8czIe",
        "colab_type": "text"
      },
      "source": [
        "# Part 2: Applications of Convolutional Neural Network"
      ]
    },
    {
      "cell_type": "markdown",
      "metadata": {
        "id": "CB4d9KZcczIf",
        "colab_type": "text"
      },
      "source": [
        "###  MobileNet Models"
      ]
    },
    {
      "cell_type": "code",
      "metadata": {
        "trusted": true,
        "id": "CdXGCibnczIh",
        "colab_type": "code",
        "outputId": "97ed031d-495d-48bd-cfc3-77e305918cc3",
        "colab": {
          "base_uri": "https://localhost:8080/",
          "height": 1000
        }
      },
      "source": [
        "model = MobileNet(input_shape=None, alpha=0.25, depth_multiplier=1, dropout=1e-3, \n",
        "                                 include_top=True, weights='imagenet', input_tensor=None, pooling=None, classes=1000)\n",
        "\n",
        "model.summary()"
      ],
      "execution_count": 0,
      "outputs": [
        {
          "output_type": "stream",
          "text": [
            "WARNING:tensorflow:From /usr/local/lib/python3.6/dist-packages/keras/backend/tensorflow_backend.py:2041: The name tf.nn.fused_batch_norm is deprecated. Please use tf.compat.v1.nn.fused_batch_norm instead.\n",
            "\n",
            "Downloading data from https://github.com/fchollet/deep-learning-models/releases/download/v0.6/mobilenet_2_5_224_tf.h5\n",
            "2113536/2108140 [==============================] - 0s 0us/step\n",
            "Model: \"mobilenet_0.25_224\"\n",
            "_________________________________________________________________\n",
            "Layer (type)                 Output Shape              Param #   \n",
            "=================================================================\n",
            "input_1 (InputLayer)         (None, 224, 224, 3)       0         \n",
            "_________________________________________________________________\n",
            "conv1_pad (ZeroPadding2D)    (None, 225, 225, 3)       0         \n",
            "_________________________________________________________________\n",
            "conv1 (Conv2D)               (None, 112, 112, 8)       216       \n",
            "_________________________________________________________________\n",
            "conv1_bn (BatchNormalization (None, 112, 112, 8)       32        \n",
            "_________________________________________________________________\n",
            "conv1_relu (ReLU)            (None, 112, 112, 8)       0         \n",
            "_________________________________________________________________\n",
            "conv_dw_1 (DepthwiseConv2D)  (None, 112, 112, 8)       72        \n",
            "_________________________________________________________________\n",
            "conv_dw_1_bn (BatchNormaliza (None, 112, 112, 8)       32        \n",
            "_________________________________________________________________\n",
            "conv_dw_1_relu (ReLU)        (None, 112, 112, 8)       0         \n",
            "_________________________________________________________________\n",
            "conv_pw_1 (Conv2D)           (None, 112, 112, 16)      128       \n",
            "_________________________________________________________________\n",
            "conv_pw_1_bn (BatchNormaliza (None, 112, 112, 16)      64        \n",
            "_________________________________________________________________\n",
            "conv_pw_1_relu (ReLU)        (None, 112, 112, 16)      0         \n",
            "_________________________________________________________________\n",
            "conv_pad_2 (ZeroPadding2D)   (None, 113, 113, 16)      0         \n",
            "_________________________________________________________________\n",
            "conv_dw_2 (DepthwiseConv2D)  (None, 56, 56, 16)        144       \n",
            "_________________________________________________________________\n",
            "conv_dw_2_bn (BatchNormaliza (None, 56, 56, 16)        64        \n",
            "_________________________________________________________________\n",
            "conv_dw_2_relu (ReLU)        (None, 56, 56, 16)        0         \n",
            "_________________________________________________________________\n",
            "conv_pw_2 (Conv2D)           (None, 56, 56, 32)        512       \n",
            "_________________________________________________________________\n",
            "conv_pw_2_bn (BatchNormaliza (None, 56, 56, 32)        128       \n",
            "_________________________________________________________________\n",
            "conv_pw_2_relu (ReLU)        (None, 56, 56, 32)        0         \n",
            "_________________________________________________________________\n",
            "conv_dw_3 (DepthwiseConv2D)  (None, 56, 56, 32)        288       \n",
            "_________________________________________________________________\n",
            "conv_dw_3_bn (BatchNormaliza (None, 56, 56, 32)        128       \n",
            "_________________________________________________________________\n",
            "conv_dw_3_relu (ReLU)        (None, 56, 56, 32)        0         \n",
            "_________________________________________________________________\n",
            "conv_pw_3 (Conv2D)           (None, 56, 56, 32)        1024      \n",
            "_________________________________________________________________\n",
            "conv_pw_3_bn (BatchNormaliza (None, 56, 56, 32)        128       \n",
            "_________________________________________________________________\n",
            "conv_pw_3_relu (ReLU)        (None, 56, 56, 32)        0         \n",
            "_________________________________________________________________\n",
            "conv_pad_4 (ZeroPadding2D)   (None, 57, 57, 32)        0         \n",
            "_________________________________________________________________\n",
            "conv_dw_4 (DepthwiseConv2D)  (None, 28, 28, 32)        288       \n",
            "_________________________________________________________________\n",
            "conv_dw_4_bn (BatchNormaliza (None, 28, 28, 32)        128       \n",
            "_________________________________________________________________\n",
            "conv_dw_4_relu (ReLU)        (None, 28, 28, 32)        0         \n",
            "_________________________________________________________________\n",
            "conv_pw_4 (Conv2D)           (None, 28, 28, 64)        2048      \n",
            "_________________________________________________________________\n",
            "conv_pw_4_bn (BatchNormaliza (None, 28, 28, 64)        256       \n",
            "_________________________________________________________________\n",
            "conv_pw_4_relu (ReLU)        (None, 28, 28, 64)        0         \n",
            "_________________________________________________________________\n",
            "conv_dw_5 (DepthwiseConv2D)  (None, 28, 28, 64)        576       \n",
            "_________________________________________________________________\n",
            "conv_dw_5_bn (BatchNormaliza (None, 28, 28, 64)        256       \n",
            "_________________________________________________________________\n",
            "conv_dw_5_relu (ReLU)        (None, 28, 28, 64)        0         \n",
            "_________________________________________________________________\n",
            "conv_pw_5 (Conv2D)           (None, 28, 28, 64)        4096      \n",
            "_________________________________________________________________\n",
            "conv_pw_5_bn (BatchNormaliza (None, 28, 28, 64)        256       \n",
            "_________________________________________________________________\n",
            "conv_pw_5_relu (ReLU)        (None, 28, 28, 64)        0         \n",
            "_________________________________________________________________\n",
            "conv_pad_6 (ZeroPadding2D)   (None, 29, 29, 64)        0         \n",
            "_________________________________________________________________\n",
            "conv_dw_6 (DepthwiseConv2D)  (None, 14, 14, 64)        576       \n",
            "_________________________________________________________________\n",
            "conv_dw_6_bn (BatchNormaliza (None, 14, 14, 64)        256       \n",
            "_________________________________________________________________\n",
            "conv_dw_6_relu (ReLU)        (None, 14, 14, 64)        0         \n",
            "_________________________________________________________________\n",
            "conv_pw_6 (Conv2D)           (None, 14, 14, 128)       8192      \n",
            "_________________________________________________________________\n",
            "conv_pw_6_bn (BatchNormaliza (None, 14, 14, 128)       512       \n",
            "_________________________________________________________________\n",
            "conv_pw_6_relu (ReLU)        (None, 14, 14, 128)       0         \n",
            "_________________________________________________________________\n",
            "conv_dw_7 (DepthwiseConv2D)  (None, 14, 14, 128)       1152      \n",
            "_________________________________________________________________\n",
            "conv_dw_7_bn (BatchNormaliza (None, 14, 14, 128)       512       \n",
            "_________________________________________________________________\n",
            "conv_dw_7_relu (ReLU)        (None, 14, 14, 128)       0         \n",
            "_________________________________________________________________\n",
            "conv_pw_7 (Conv2D)           (None, 14, 14, 128)       16384     \n",
            "_________________________________________________________________\n",
            "conv_pw_7_bn (BatchNormaliza (None, 14, 14, 128)       512       \n",
            "_________________________________________________________________\n",
            "conv_pw_7_relu (ReLU)        (None, 14, 14, 128)       0         \n",
            "_________________________________________________________________\n",
            "conv_dw_8 (DepthwiseConv2D)  (None, 14, 14, 128)       1152      \n",
            "_________________________________________________________________\n",
            "conv_dw_8_bn (BatchNormaliza (None, 14, 14, 128)       512       \n",
            "_________________________________________________________________\n",
            "conv_dw_8_relu (ReLU)        (None, 14, 14, 128)       0         \n",
            "_________________________________________________________________\n",
            "conv_pw_8 (Conv2D)           (None, 14, 14, 128)       16384     \n",
            "_________________________________________________________________\n",
            "conv_pw_8_bn (BatchNormaliza (None, 14, 14, 128)       512       \n",
            "_________________________________________________________________\n",
            "conv_pw_8_relu (ReLU)        (None, 14, 14, 128)       0         \n",
            "_________________________________________________________________\n",
            "conv_dw_9 (DepthwiseConv2D)  (None, 14, 14, 128)       1152      \n",
            "_________________________________________________________________\n",
            "conv_dw_9_bn (BatchNormaliza (None, 14, 14, 128)       512       \n",
            "_________________________________________________________________\n",
            "conv_dw_9_relu (ReLU)        (None, 14, 14, 128)       0         \n",
            "_________________________________________________________________\n",
            "conv_pw_9 (Conv2D)           (None, 14, 14, 128)       16384     \n",
            "_________________________________________________________________\n",
            "conv_pw_9_bn (BatchNormaliza (None, 14, 14, 128)       512       \n",
            "_________________________________________________________________\n",
            "conv_pw_9_relu (ReLU)        (None, 14, 14, 128)       0         \n",
            "_________________________________________________________________\n",
            "conv_dw_10 (DepthwiseConv2D) (None, 14, 14, 128)       1152      \n",
            "_________________________________________________________________\n",
            "conv_dw_10_bn (BatchNormaliz (None, 14, 14, 128)       512       \n",
            "_________________________________________________________________\n",
            "conv_dw_10_relu (ReLU)       (None, 14, 14, 128)       0         \n",
            "_________________________________________________________________\n",
            "conv_pw_10 (Conv2D)          (None, 14, 14, 128)       16384     \n",
            "_________________________________________________________________\n",
            "conv_pw_10_bn (BatchNormaliz (None, 14, 14, 128)       512       \n",
            "_________________________________________________________________\n",
            "conv_pw_10_relu (ReLU)       (None, 14, 14, 128)       0         \n",
            "_________________________________________________________________\n",
            "conv_dw_11 (DepthwiseConv2D) (None, 14, 14, 128)       1152      \n",
            "_________________________________________________________________\n",
            "conv_dw_11_bn (BatchNormaliz (None, 14, 14, 128)       512       \n",
            "_________________________________________________________________\n",
            "conv_dw_11_relu (ReLU)       (None, 14, 14, 128)       0         \n",
            "_________________________________________________________________\n",
            "conv_pw_11 (Conv2D)          (None, 14, 14, 128)       16384     \n",
            "_________________________________________________________________\n",
            "conv_pw_11_bn (BatchNormaliz (None, 14, 14, 128)       512       \n",
            "_________________________________________________________________\n",
            "conv_pw_11_relu (ReLU)       (None, 14, 14, 128)       0         \n",
            "_________________________________________________________________\n",
            "conv_pad_12 (ZeroPadding2D)  (None, 15, 15, 128)       0         \n",
            "_________________________________________________________________\n",
            "conv_dw_12 (DepthwiseConv2D) (None, 7, 7, 128)         1152      \n",
            "_________________________________________________________________\n",
            "conv_dw_12_bn (BatchNormaliz (None, 7, 7, 128)         512       \n",
            "_________________________________________________________________\n",
            "conv_dw_12_relu (ReLU)       (None, 7, 7, 128)         0         \n",
            "_________________________________________________________________\n",
            "conv_pw_12 (Conv2D)          (None, 7, 7, 256)         32768     \n",
            "_________________________________________________________________\n",
            "conv_pw_12_bn (BatchNormaliz (None, 7, 7, 256)         1024      \n",
            "_________________________________________________________________\n",
            "conv_pw_12_relu (ReLU)       (None, 7, 7, 256)         0         \n",
            "_________________________________________________________________\n",
            "conv_dw_13 (DepthwiseConv2D) (None, 7, 7, 256)         2304      \n",
            "_________________________________________________________________\n",
            "conv_dw_13_bn (BatchNormaliz (None, 7, 7, 256)         1024      \n",
            "_________________________________________________________________\n",
            "conv_dw_13_relu (ReLU)       (None, 7, 7, 256)         0         \n",
            "_________________________________________________________________\n",
            "conv_pw_13 (Conv2D)          (None, 7, 7, 256)         65536     \n",
            "_________________________________________________________________\n",
            "conv_pw_13_bn (BatchNormaliz (None, 7, 7, 256)         1024      \n",
            "_________________________________________________________________\n",
            "conv_pw_13_relu (ReLU)       (None, 7, 7, 256)         0         \n",
            "_________________________________________________________________\n",
            "global_average_pooling2d_1 ( (None, 256)               0         \n",
            "_________________________________________________________________\n",
            "reshape_1 (Reshape)          (None, 1, 1, 256)         0         \n",
            "_________________________________________________________________\n",
            "dropout (Dropout)            (None, 1, 1, 256)         0         \n",
            "_________________________________________________________________\n",
            "conv_preds (Conv2D)          (None, 1, 1, 1000)        257000    \n",
            "_________________________________________________________________\n",
            "reshape_2 (Reshape)          (None, 1000)              0         \n",
            "_________________________________________________________________\n",
            "act_softmax (Activation)     (None, 1000)              0         \n",
            "=================================================================\n",
            "Total params: 475,544\n",
            "Trainable params: 470,072\n",
            "Non-trainable params: 5,472\n",
            "_________________________________________________________________\n"
          ],
          "name": "stdout"
        }
      ]
    },
    {
      "cell_type": "code",
      "metadata": {
        "id": "VRzA7e_1c_LJ",
        "colab_type": "code",
        "outputId": "8429fa09-bc28-48b5-dc5d-9430ede3f963",
        "colab": {
          "base_uri": "https://localhost:8080/",
          "height": 202
        }
      },
      "source": [
        "!wget https://notebooks.azure.com/vipulmishra/projects/labgail/raw/Cat.jpg"
      ],
      "execution_count": 0,
      "outputs": [
        {
          "output_type": "stream",
          "text": [
            "--2019-11-23 07:34:07--  https://notebooks.azure.com/vipulmishra/projects/labgail/raw/Cat.jpg\n",
            "Resolving notebooks.azure.com (notebooks.azure.com)... 13.65.37.122\n",
            "Connecting to notebooks.azure.com (notebooks.azure.com)|13.65.37.122|:443... connected.\n",
            "HTTP request sent, awaiting response... 200 OK\n",
            "Length: 669619 (654K) [image/jpeg]\n",
            "Saving to: ‘Cat.jpg’\n",
            "\n",
            "\rCat.jpg               0%[                    ]       0  --.-KB/s               \rCat.jpg              85%[================>   ] 560.00K  2.39MB/s               \rCat.jpg             100%[===================>] 653.92K  2.78MB/s    in 0.2s    \n",
            "\n",
            "2019-11-23 07:34:08 (2.78 MB/s) - ‘Cat.jpg’ saved [669619/669619]\n",
            "\n"
          ],
          "name": "stdout"
        }
      ]
    },
    {
      "cell_type": "markdown",
      "metadata": {
        "id": "0XjbZU4rczIn",
        "colab_type": "text"
      },
      "source": [
        "###  Classify images"
      ]
    },
    {
      "cell_type": "code",
      "metadata": {
        "trusted": true,
        "id": "9uYwIKxKczIp",
        "colab_type": "code",
        "outputId": "ad827694-05af-4b0e-bbe4-ebb8149b3731",
        "colab": {
          "base_uri": "https://localhost:8080/",
          "height": 104
        }
      },
      "source": [
        "# Write the image name below\n",
        "\n",
        "img_path = 'Cat.jpg'\n",
        "img = image.load_img(img_path, target_size=(224, 224))\n",
        "x = image.img_to_array(img)\n",
        "x = np.expand_dims(x, axis=0)\n",
        "x = preprocess_input(x)\n",
        "\n",
        "preds = model.predict(x)\n",
        "print('Predicted:\\n', decode_predictions(preds))"
      ],
      "execution_count": 0,
      "outputs": [
        {
          "output_type": "stream",
          "text": [
            "Downloading data from https://storage.googleapis.com/download.tensorflow.org/data/imagenet_class_index.json\n",
            "40960/35363 [==================================] - 0s 0us/step\n",
            "Predicted:\n",
            " [[('n03325584', 'feather_boa', 0.2464097), ('n02098286', 'West_Highland_white_terrier', 0.05485964), ('n02317335', 'starfish', 0.041602302), ('n03884397', 'panpipe', 0.038436636), ('n03388043', 'fountain', 0.03528113)]]\n"
          ],
          "name": "stdout"
        }
      ]
    },
    {
      "cell_type": "markdown",
      "metadata": {
        "id": "u7G7S2XbczIx",
        "colab_type": "text"
      },
      "source": [
        "###  Extract CNN features"
      ]
    },
    {
      "cell_type": "code",
      "metadata": {
        "trusted": true,
        "id": "8iD9Q37DczIz",
        "colab_type": "code",
        "outputId": "4f28f935-ca7c-4924-8e12-c901509cf5ee",
        "colab": {
          "base_uri": "https://localhost:8080/",
          "height": 1000
        }
      },
      "source": [
        "features = model.predict(x)\n",
        "print('\\nFeature Shape:\\n',features.shape)\n",
        "print('\\nFeatures:\\n',features)"
      ],
      "execution_count": 0,
      "outputs": [
        {
          "output_type": "stream",
          "text": [
            "\n",
            "Feature Shape:\n",
            " (1, 1000)\n",
            "\n",
            "Features:\n",
            " [[1.66888913e-06 7.13712478e-04 1.65773949e-04 1.10442423e-04\n",
            "  1.78126080e-04 4.26019914e-03 3.12949414e-04 1.41129553e-04\n",
            "  6.23050655e-05 1.60201679e-07 9.00852172e-07 2.61550358e-05\n",
            "  8.94293578e-07 1.74001452e-05 5.53141617e-05 3.42096632e-06\n",
            "  2.29536290e-05 1.24991828e-04 2.50077574e-06 7.43013152e-06\n",
            "  1.03183777e-06 1.27221181e-04 7.50785694e-06 6.57101191e-05\n",
            "  2.86815452e-06 1.59369131e-06 5.43632996e-05 5.69003023e-05\n",
            "  3.04480545e-05 3.72154475e-03 6.52500773e-07 4.07434391e-06\n",
            "  2.95472978e-06 2.60654792e-06 2.85955139e-06 1.32700757e-06\n",
            "  5.19292325e-06 2.66793165e-07 3.75387492e-04 9.01975272e-06\n",
            "  9.18589649e-06 7.87469708e-06 1.11574482e-05 4.63036631e-05\n",
            "  1.34447000e-05 7.70627594e-06 4.13208290e-05 1.56747512e-04\n",
            "  1.50154918e-07 1.80126281e-05 6.31855801e-05 3.84678220e-04\n",
            "  1.07686401e-05 4.20531542e-05 2.18738896e-05 2.58909786e-05\n",
            "  4.34409340e-05 5.82936593e-07 2.88289320e-05 8.68797088e-06\n",
            "  9.98507949e-06 1.99287228e-06 6.61912372e-06 4.11974543e-06\n",
            "  4.94684718e-05 8.18191074e-06 1.08436034e-04 3.19992932e-06\n",
            "  1.51962577e-05 4.55965733e-07 1.20070615e-06 3.42101544e-06\n",
            "  4.29523789e-06 2.68541244e-05 2.85612423e-05 4.45490826e-07\n",
            "  1.50208198e-05 3.16139449e-06 3.84000487e-05 1.69067662e-05\n",
            "  1.82684416e-05 5.04864547e-05 9.19906324e-06 1.62637753e-05\n",
            "  3.03273691e-06 1.42945801e-05 5.46305637e-06 2.26383941e-06\n",
            "  3.21294669e-06 4.28476051e-04 1.72072123e-06 2.40450709e-06\n",
            "  4.46220469e-07 2.25696596e-07 4.45920392e-04 1.35594610e-06\n",
            "  4.53920507e-07 1.13232625e-06 5.29129295e-07 6.32942829e-06\n",
            "  1.30360525e-06 3.97373611e-07 2.23191634e-07 8.75962769e-08\n",
            "  1.33252597e-05 5.42196119e-07 3.71434840e-06 1.97501085e-03\n",
            "  3.31861549e-04 1.85564277e-05 4.22540773e-03 5.92080432e-05\n",
            "  1.60200223e-02 7.55966976e-05 2.15063512e-04 1.12470016e-02\n",
            "  7.98921428e-06 6.46611588e-05 5.58132626e-07 2.74175335e-07\n",
            "  2.90674279e-07 5.97470398e-06 1.18446178e-06 2.04822896e-07\n",
            "  1.31906609e-06 1.10680239e-05 3.89876914e-05 1.04638948e-05\n",
            "  1.00669979e-06 3.41091974e-04 2.75601742e-05 6.39991049e-06\n",
            "  8.02993163e-05 1.70527528e-06 3.83506631e-06 3.11332406e-05\n",
            "  9.49885271e-06 1.39489180e-06 1.50960921e-06 1.24261999e-06\n",
            "  7.28587793e-06 1.45960039e-05 5.05366233e-06 7.73188549e-06\n",
            "  3.27978023e-06 1.18008938e-06 7.55732344e-06 2.40890245e-06\n",
            "  1.71447955e-05 1.63804107e-05 6.22064181e-06 3.54598882e-03\n",
            "  9.77691496e-04 3.96944908e-03 2.05594275e-04 7.72019630e-05\n",
            "  2.41241196e-05 2.11249031e-02 5.85951726e-04 3.07262053e-06\n",
            "  4.19998069e-05 7.37487994e-07 5.71288865e-07 8.32925593e-07\n",
            "  1.79322242e-07 1.92527665e-07 2.35278932e-07 1.44567920e-07\n",
            "  1.04773903e-06 2.23539519e-05 1.85781641e-06 1.25755241e-05\n",
            "  1.66605230e-06 5.38221029e-05 1.81694049e-04 4.26808811e-06\n",
            "  2.07505764e-06 2.51837491e-07 2.95892028e-06 1.31583283e-05\n",
            "  5.83013070e-06 1.71111787e-05 3.08867925e-06 8.29892451e-05\n",
            "  3.09993593e-05 1.06881460e-04 1.60454575e-03 1.41253427e-03\n",
            "  2.34789317e-04 7.32020999e-05 2.93969992e-04 6.35958088e-07\n",
            "  5.92165394e-04 1.97934001e-04 7.90607228e-05 1.14216258e-04\n",
            "  4.74516601e-05 7.03533124e-06 3.87190921e-05 2.83576595e-03\n",
            "  1.30046988e-04 1.70255356e-04 1.88684135e-05 5.48596382e-02\n",
            "  2.07964986e-04 1.73351589e-06 6.91947761e-08 3.77151155e-05\n",
            "  5.82823532e-06 1.49515316e-07 1.07932742e-07 1.12447265e-06\n",
            "  2.30638052e-05 1.84414466e-06 2.13366661e-06 8.97604059e-06\n",
            "  3.21080734e-05 4.66991696e-06 4.69385850e-06 5.63748072e-05\n",
            "  3.61734283e-06 3.54768167e-06 7.74540313e-05 8.69482290e-04\n",
            "  3.50659422e-04 3.80227029e-05 1.16868752e-04 5.44747709e-05\n",
            "  2.16838653e-05 6.50600632e-05 6.27033733e-05 1.90835955e-04\n",
            "  5.96250873e-04 3.70796224e-05 1.06885885e-07 7.49549799e-05\n",
            "  9.80798404e-07 2.54302358e-05 4.81938571e-07 1.82434837e-06\n",
            "  1.05183869e-06 4.58223809e-07 5.69758549e-06 7.64606682e-07\n",
            "  1.93630558e-06 1.06055013e-04 1.02432114e-05 2.08549682e-06\n",
            "  2.56687542e-03 4.13892965e-04 6.39848586e-04 2.22312392e-05\n",
            "  3.21226515e-04 3.65102896e-05 1.29502014e-05 8.66484015e-07\n",
            "  4.19571097e-06 8.80729494e-05 2.26693228e-02 5.96880401e-03\n",
            "  2.91881151e-04 7.87408149e-04 1.71269839e-05 1.12962283e-04\n",
            "  3.87513392e-05 4.21080709e-04 1.48042775e-04 1.29888591e-04\n",
            "  1.79698298e-04 1.46265695e-04 7.37620983e-03 2.05131382e-05\n",
            "  7.26264489e-06 5.94909870e-05 2.70304372e-05 9.03112741e-05\n",
            "  5.12922861e-06 2.43399962e-04 2.00940325e-04 6.32546702e-03\n",
            "  1.06000662e-04 3.39649596e-05 3.99428354e-05 5.66067826e-03\n",
            "  3.32397479e-03 4.40869015e-04 4.75182751e-05 1.13994764e-04\n",
            "  3.77992292e-05 1.64869198e-05 3.78113623e-06 1.62327456e-06\n",
            "  1.22161264e-05 1.80524730e-05 1.65933216e-06 2.65451990e-06\n",
            "  2.23360403e-04 1.43211810e-06 1.90630567e-06 6.74286093e-06\n",
            "  7.85279917e-06 3.00928950e-05 1.09774937e-05 2.84799316e-04\n",
            "  4.30659784e-05 1.43011931e-07 1.27422551e-04 3.06745460e-05\n",
            "  9.12417818e-05 2.19626329e-03 9.68259468e-04 7.29581734e-05\n",
            "  4.25459002e-05 1.70025996e-05 8.05591480e-06 5.50567256e-06\n",
            "  3.33258413e-07 2.50752128e-05 1.60678592e-05 3.05339272e-05\n",
            "  1.24081353e-05 3.53096334e-06 2.56866788e-05 2.25279418e-05\n",
            "  4.92601102e-05 1.68411090e-04 6.76594427e-05 4.16023023e-02\n",
            "  2.21502924e-05 1.53843270e-04 1.07120386e-05 5.22570444e-05\n",
            "  8.10050964e-03 7.01697497e-03 6.19119737e-06 1.05082162e-03\n",
            "  2.04778871e-06 3.82164853e-06 1.55385002e-04 2.69332486e-05\n",
            "  7.83842552e-06 3.02255183e-04 1.51105032e-05 5.04800755e-06\n",
            "  1.57178474e-05 1.53581077e-05 1.39919803e-06 9.95735491e-07\n",
            "  2.12633563e-06 4.41516522e-06 3.67556959e-06 1.01773730e-06\n",
            "  1.68871452e-06 2.33853189e-06 7.97218127e-06 3.75424352e-05\n",
            "  1.68789658e-04 1.77966631e-05 4.69795850e-05 6.08553819e-05\n",
            "  9.33782133e-07 1.86513480e-05 2.01274688e-07 7.18068213e-06\n",
            "  3.18119191e-06 6.94639821e-05 9.87039675e-06 1.85074100e-06\n",
            "  5.85652015e-05 5.83584961e-06 1.50534306e-05 1.11847430e-05\n",
            "  3.20951222e-05 2.33040264e-05 4.24827333e-04 8.51932964e-06\n",
            "  2.47882308e-05 1.49121173e-04 5.62475288e-05 7.16201794e-06\n",
            "  1.12840826e-04 3.72350769e-05 1.45964495e-05 9.78641474e-05\n",
            "  6.17117548e-05 1.48027380e-06 2.18476600e-07 2.78198468e-06\n",
            "  9.10816379e-06 6.20959042e-07 3.36787775e-06 1.65591916e-06\n",
            "  7.95307133e-05 5.55104270e-05 1.00836651e-05 2.34552977e-06\n",
            "  3.88616081e-06 1.23547521e-04 1.32675446e-03 8.16621468e-05\n",
            "  2.01612438e-05 3.64113293e-05 1.36914299e-04 7.55310839e-06\n",
            "  3.84821287e-05 4.97275360e-05 1.25022110e-04 1.81548808e-06\n",
            "  1.44448916e-06 3.55289929e-04 1.37683298e-06 1.86135189e-03\n",
            "  2.20586971e-05 7.72534804e-06 2.47953230e-05 4.66078091e-05\n",
            "  4.02249105e-04 1.96042893e-04 2.58933997e-05 7.89745536e-04\n",
            "  4.65052699e-06 9.90054650e-06 1.32454525e-05 5.03559022e-07\n",
            "  4.35874041e-04 3.05562979e-04 5.05614298e-05 5.19329224e-05\n",
            "  8.34232196e-06 1.07696163e-03 6.89778199e-06 1.29999200e-04\n",
            "  2.97283623e-06 1.43979525e-03 1.59758772e-03 8.17617809e-04\n",
            "  1.74745036e-08 3.96667492e-05 2.07980938e-05 3.29564558e-03\n",
            "  8.07419656e-06 5.00777787e-06 1.90097213e-04 2.41230726e-02\n",
            "  7.63089304e-07 6.58836542e-03 9.72360576e-05 4.14330971e-05\n",
            "  1.90189312e-04 1.21105804e-05 7.13291911e-06 8.28346674e-05\n",
            "  2.53016874e-03 8.62724846e-07 4.02261958e-06 3.11345502e-04\n",
            "  4.60906085e-05 9.96572152e-03 1.77670045e-05 2.29882449e-02\n",
            "  2.21555747e-05 4.21951059e-03 5.06003853e-04 2.72860314e-04\n",
            "  4.12064328e-05 8.07629200e-04 7.79198103e-07 1.05125616e-06\n",
            "  4.36617484e-06 1.33278400e-05 2.85429060e-02 1.92188309e-05\n",
            "  1.03075636e-05 2.70710934e-05 1.36225449e-03 4.61586097e-07\n",
            "  2.04316839e-05 3.93296750e-06 2.01408446e-04 4.62693208e-07\n",
            "  4.18994314e-05 7.31560112e-06 6.26150438e-07 1.06676726e-03\n",
            "  1.54928057e-06 6.45817499e-06 1.33955415e-04 9.62541526e-05\n",
            "  3.41967004e-03 5.74158831e-03 1.32930344e-02 2.70159148e-06\n",
            "  1.91323670e-05 4.39929863e-06 1.37420429e-04 3.31173084e-07\n",
            "  3.64280539e-03 1.59628107e-03 3.13475000e-04 7.36995135e-05\n",
            "  1.22495794e-06 8.38273554e-05 1.02248241e-03 3.62854953e-05\n",
            "  6.42742598e-05 4.66513920e-05 2.05824981e-04 4.79865121e-05\n",
            "  4.82478026e-05 7.47554168e-06 6.44621923e-06 4.48471944e-08\n",
            "  3.08058545e-04 7.05344291e-06 1.10760127e-04 2.68764934e-03\n",
            "  5.85898117e-04 3.82978851e-06 6.89778835e-06 3.30345101e-05\n",
            "  8.41761575e-05 3.60278318e-06 3.09519896e-06 1.16476967e-05\n",
            "  3.34957405e-03 5.24842392e-07 9.87038334e-07 1.07634451e-05\n",
            "  2.33023165e-05 1.75130682e-03 7.66153913e-04 4.00413519e-05\n",
            "  9.37011464e-07 2.76667095e-04 1.02495427e-07 1.04190599e-06\n",
            "  5.04098125e-07 1.77329784e-05 3.14229110e-05 2.04194221e-04\n",
            "  1.03875698e-06 2.94461297e-05 2.52422411e-04 3.31133633e-05\n",
            "  2.78514761e-07 3.19402498e-05 2.38738605e-03 2.81462462e-08\n",
            "  3.21728379e-07 4.87168436e-04 8.03865817e-07 1.94733966e-05\n",
            "  2.46409699e-01 9.67290248e-07 1.91974341e-05 5.44748787e-07\n",
            "  5.63866110e-04 1.14305018e-04 2.52642290e-04 6.95379140e-06\n",
            "  2.34605773e-06 4.63617020e-08 3.52811292e-02 7.22169534e-06\n",
            "  1.62622546e-05 2.80977315e-06 1.95782150e-07 6.96720974e-07\n",
            "  3.13849217e-04 2.90404955e-07 2.10412309e-05 1.03348827e-06\n",
            "  2.60942354e-04 1.82370712e-07 6.30744325e-05 1.08843459e-08\n",
            "  9.52874245e-07 2.04036241e-05 1.05032427e-02 4.93008793e-06\n",
            "  1.30531025e-05 1.41670421e-06 7.12141218e-06 5.59245166e-07\n",
            "  1.64148305e-03 5.50342083e-04 2.68700830e-07 1.41160308e-05\n",
            "  2.05542613e-03 4.41221055e-04 7.64603828e-05 4.85414732e-03\n",
            "  4.41819566e-07 4.36013710e-04 1.45512036e-04 1.08175993e-06\n",
            "  6.61267259e-05 1.29416576e-05 3.20487698e-06 7.83014752e-04\n",
            "  2.99645850e-04 1.02374598e-03 1.29641892e-04 1.56168346e-06\n",
            "  8.48324344e-05 1.41423461e-05 9.35154222e-03 1.22141471e-04\n",
            "  3.60386417e-04 3.80711384e-07 6.31351577e-05 7.66481645e-03\n",
            "  2.74558132e-09 2.83250065e-05 1.11981004e-03 1.18191849e-04\n",
            "  4.53102915e-03 1.33311441e-05 1.90949086e-05 2.07291683e-03\n",
            "  1.22681504e-05 7.44397255e-07 3.69766458e-05 7.69769249e-05\n",
            "  1.21252504e-06 2.87460330e-06 7.88909208e-04 2.05146236e-07\n",
            "  1.09968787e-05 7.57533067e-04 9.44535714e-06 4.87443293e-04\n",
            "  4.05186529e-06 5.74511287e-05 8.52780317e-07 2.11589868e-05\n",
            "  5.56079496e-04 3.69979171e-05 9.50241368e-03 2.58282293e-03\n",
            "  1.97863505e-06 7.30465224e-04 2.76122271e-04 8.82282213e-04\n",
            "  5.22497483e-03 2.32580678e-05 8.40670546e-05 1.19373399e-05\n",
            "  1.73938242e-05 7.76657885e-07 3.26172798e-04 3.83037815e-07\n",
            "  4.07705484e-05 4.69304614e-05 1.16487968e-07 1.11616901e-04\n",
            "  1.77716799e-07 8.54147424e-04 2.48941383e-03 3.77848155e-05\n",
            "  1.29966406e-06 2.91264479e-09 1.59030333e-05 3.12084812e-05\n",
            "  2.90403568e-05 4.99953194e-06 2.16946952e-04 2.13276042e-04\n",
            "  1.48889041e-04 1.64799014e-04 2.36986816e-05 1.45919266e-05\n",
            "  2.16771042e-07 3.28199712e-05 1.39696480e-04 3.86242860e-08\n",
            "  7.39354946e-05 7.53245986e-05 9.27808142e-05 3.38393706e-03\n",
            "  4.14414518e-03 4.64042569e-06 2.58780947e-05 6.20696228e-05\n",
            "  2.29004561e-03 1.49035066e-06 4.98234976e-06 9.97394545e-06\n",
            "  7.99602189e-04 1.65498233e-03 1.45206639e-06 1.57211907e-04\n",
            "  5.01358940e-04 8.30666468e-05 1.84530663e-07 4.63043725e-05\n",
            "  1.05072490e-04 1.99374892e-02 3.13716650e-04 3.84366363e-02\n",
            "  2.15650172e-04 8.58707717e-05 5.24839415e-05 1.72965429e-05\n",
            "  3.51451854e-06 2.28034509e-07 1.71826969e-06 2.04792923e-06\n",
            "  8.26492687e-05 1.76190340e-04 2.43884861e-04 7.33095221e-04\n",
            "  1.41159500e-04 1.87564183e-06 2.56457279e-05 1.48349383e-03\n",
            "  1.10631436e-02 3.04665129e-08 8.50701326e-06 7.21135875e-03\n",
            "  1.94960201e-04 1.19082490e-03 5.35152946e-03 2.29193759e-03\n",
            "  5.18647903e-06 2.62191199e-04 9.41780115e-07 1.01292153e-05\n",
            "  5.51037956e-04 1.92133684e-05 2.58725549e-06 2.05342483e-04\n",
            "  3.08154745e-06 6.47655179e-05 3.39490107e-08 6.17930619e-03\n",
            "  1.18965854e-05 2.04461867e-05 1.71043430e-05 1.95880489e-06\n",
            "  4.98802874e-05 4.37130569e-04 5.70377279e-06 5.22401497e-05\n",
            "  5.62692876e-04 9.71865938e-06 8.32516605e-07 3.51080198e-05\n",
            "  8.73729354e-04 6.39459991e-04 1.43956044e-03 1.18359912e-06\n",
            "  1.55999478e-05 2.87439529e-04 1.82095973e-05 2.44789335e-05\n",
            "  1.25196657e-05 1.13819048e-07 1.86109344e-06 2.05859815e-05\n",
            "  9.88103056e-06 1.70257772e-04 2.68475178e-05 4.97385408e-05\n",
            "  1.35772470e-05 3.71997958e-05 3.58736156e-06 1.45011931e-04\n",
            "  4.77303502e-06 7.77130655e-04 1.08919830e-05 6.02539603e-06\n",
            "  1.71008942e-04 4.38615330e-04 1.04861974e-04 2.61355261e-03\n",
            "  1.26539026e-05 1.25872230e-05 2.89436983e-04 1.35371408e-07\n",
            "  1.14108479e-05 1.32283085e-05 1.84273391e-04 3.00722983e-04\n",
            "  1.93405765e-04 5.15198099e-06 5.15100110e-05 8.03863513e-05\n",
            "  2.85151124e-04 7.00771534e-06 4.97411762e-04 7.64297329e-06\n",
            "  1.47243918e-05 1.81517917e-05 5.26368758e-03 1.54418940e-05\n",
            "  1.83387790e-04 3.44705259e-05 1.12488669e-06 8.89197736e-07\n",
            "  4.18154195e-06 1.42041581e-05 6.54257019e-06 1.22470442e-06\n",
            "  6.26486799e-05 2.85616243e-05 2.93984311e-04 9.52722985e-06\n",
            "  9.40551050e-04 2.72544457e-05 1.05278668e-05 1.76093672e-05\n",
            "  1.84051751e-04 1.70424046e-05 1.01806208e-05 2.06797340e-04\n",
            "  7.82357529e-05 1.08143659e-07 6.24143460e-04 2.55702180e-03\n",
            "  3.45463850e-05 1.13019871e-06 1.13627470e-06 5.78682702e-05\n",
            "  6.27851998e-03 5.43320675e-06 6.77255215e-04 1.64298508e-05\n",
            "  2.40551410e-04 1.02368240e-07 1.85424085e-06 2.43964896e-04\n",
            "  2.36304477e-04 1.25174870e-06 5.79338666e-05 1.20361430e-04\n",
            "  1.97397501e-04 3.19372979e-04 9.63321145e-05 2.89352397e-06\n",
            "  2.64229049e-04 6.60867256e-04 9.06579604e-04 1.79397874e-04\n",
            "  3.27184825e-04 5.13885716e-05 4.94578388e-04 3.19916330e-06\n",
            "  1.46648392e-06 2.13635634e-04 4.80869116e-04 1.67045626e-04\n",
            "  2.04750744e-04 8.30891452e-07 2.21530162e-03 6.46250672e-04\n",
            "  2.55897078e-07 7.02918216e-04 1.37831236e-03 1.15252124e-05\n",
            "  2.67889345e-06 7.02391117e-05 5.38746419e-04 1.12390342e-06\n",
            "  1.02298117e-08 7.76402449e-05 2.79133678e-06 1.99067543e-07\n",
            "  7.71995692e-04 1.16611854e-03 1.27883577e-05 1.11406962e-06\n",
            "  1.12266294e-04 5.43254873e-06 8.10958234e-09 4.82864607e-07\n",
            "  1.25100650e-03 1.60336708e-06 5.76940556e-06 2.36766340e-04\n",
            "  2.56181047e-05 9.07756544e-07 3.26123918e-05 1.60089042e-03\n",
            "  4.69174847e-05 9.05660214e-04 9.62603508e-07 5.62686955e-06\n",
            "  1.23051359e-06 5.48674288e-05 1.60554537e-05 2.55019677e-06\n",
            "  4.47331928e-04 1.08699584e-04 1.24423577e-05 1.28818559e-04\n",
            "  1.27884501e-04 3.00226793e-06 2.24358024e-04 5.50016484e-05\n",
            "  1.26807454e-05 3.96046453e-05 4.15441376e-04 2.57965364e-03\n",
            "  1.73648936e-03 1.66488974e-03 7.34189816e-04 5.21326510e-05\n",
            "  1.48275831e-05 1.40269708e-06 5.62545029e-05 1.63136097e-03\n",
            "  5.20421192e-04 1.22769802e-06 5.51193750e-07 3.76134835e-06\n",
            "  1.42246470e-04 1.98343187e-04 1.57317772e-05 1.68060833e-05\n",
            "  4.05897590e-05 2.64321198e-03 6.36532131e-05 1.19707547e-05\n",
            "  4.12515919e-06 8.04986303e-06 2.54297248e-07 2.54196657e-05\n",
            "  2.20861457e-05 1.63929991e-03 8.23820585e-08 6.56704333e-06\n",
            "  3.68841938e-05 1.58568568e-07 3.43025090e-06 1.16504971e-05\n",
            "  1.43902568e-07 1.43766432e-04 1.51949243e-05 1.66364443e-05\n",
            "  2.07604944e-06 6.10051870e-07 7.24603815e-05 3.91555746e-04\n",
            "  1.60407744e-05 2.36953383e-05 2.65292438e-05 3.27112153e-04\n",
            "  6.12300573e-05 3.75689776e-03 1.20497280e-04 3.02539520e-05\n",
            "  1.53539786e-05 2.06137611e-05 1.03520614e-03 1.36884473e-05\n",
            "  3.58751749e-05 1.99616290e-04 1.66145965e-05 3.10744184e-07\n",
            "  2.64914866e-06 2.58247792e-06 2.45665024e-06 1.40924371e-07\n",
            "  1.35490689e-06 2.28940991e-07 6.36054892e-06 1.44166518e-06\n",
            "  3.64057923e-04 7.33958732e-05 1.40737284e-05 2.63728201e-04\n",
            "  2.14587567e-06 6.98839140e-05 6.57469220e-03 5.18863890e-05\n",
            "  7.64059337e-07 6.58902864e-05 1.30822591e-04 1.03718594e-06\n",
            "  2.77237478e-03 1.27957741e-04 4.90325154e-04 4.69052247e-05\n",
            "  7.41490209e-03 1.81500684e-04 1.19716105e-05 6.25879224e-03\n",
            "  1.38945834e-05 4.45788581e-04 1.16036652e-04 4.08805754e-05\n",
            "  6.73632167e-05 5.38896666e-06 9.21667925e-06 4.59302282e-05\n",
            "  2.70478686e-05 6.05409468e-07 4.98962542e-03 1.02294813e-04]]\n"
          ],
          "name": "stdout"
        }
      ]
    },
    {
      "cell_type": "markdown",
      "metadata": {
        "id": "xNblOEiiczI7",
        "colab_type": "text"
      },
      "source": [
        "###  Extract features from an arbitrary intermediate layer"
      ]
    },
    {
      "cell_type": "code",
      "metadata": {
        "trusted": true,
        "id": "FOagy56QczI9",
        "colab_type": "code",
        "outputId": "147c629a-f790-4218-d29d-dd8be548332a",
        "colab": {
          "base_uri": "https://localhost:8080/",
          "height": 34
        }
      },
      "source": [
        "model_minimal = Model(input=model.input, output=model.get_layer('conv_dw_2_relu').output)\n",
        "\n",
        "conv_dw_2_relu_features = model_minimal.predict(x)\n",
        "print('Features of conv_dw_2_relu:',conv_dw_2_relu_features.shape)"
      ],
      "execution_count": 0,
      "outputs": [
        {
          "output_type": "stream",
          "text": [
            "Features of conv_dw_2_relu: (1, 56, 56, 16)\n"
          ],
          "name": "stdout"
        }
      ]
    },
    {
      "cell_type": "markdown",
      "metadata": {
        "id": "_Bdl4kxBczJC",
        "colab_type": "text"
      },
      "source": [
        "### You can extract these features and use the base network as a feature extractor for your problems. "
      ]
    },
    {
      "cell_type": "markdown",
      "metadata": {
        "id": "lrsWIBE4czJF",
        "colab_type": "text"
      },
      "source": [
        "# Part 3: Deep Convolution Layer Visualization"
      ]
    },
    {
      "cell_type": "code",
      "metadata": {
        "trusted": true,
        "id": "BAJ-4_JgczJI",
        "colab_type": "code",
        "colab": {}
      },
      "source": [
        "import matplotlib as mp\n",
        "%matplotlib inline\n",
        "import matplotlib.pyplot as plt\n",
        "import tensorflow as tf\n",
        "import tensorflow.contrib.slim as slim\n",
        "from tensorflow.examples.tutorials.mnist import input_data\n",
        "import math"
      ],
      "execution_count": 0,
      "outputs": []
    },
    {
      "cell_type": "markdown",
      "metadata": {
        "id": "B5ZMfgYrczJP",
        "colab_type": "text"
      },
      "source": [
        "### Extract Data"
      ]
    },
    {
      "cell_type": "code",
      "metadata": {
        "trusted": true,
        "id": "_lFa4fweczJQ",
        "colab_type": "code",
        "outputId": "b0bccec1-0427-44ad-f317-9568b54a23fc",
        "colab": {
          "base_uri": "https://localhost:8080/",
          "height": 552
        }
      },
      "source": [
        "mnist = input_data.read_data_sets(\"MNIST_data/\", one_hot=True)"
      ],
      "execution_count": 0,
      "outputs": [
        {
          "output_type": "stream",
          "text": [
            "W0727 18:11:57.166813 140145501456256 deprecation.py:323] From <ipython-input-14-a839aeb82f4b>:1: read_data_sets (from tensorflow.contrib.learn.python.learn.datasets.mnist) is deprecated and will be removed in a future version.\n",
            "Instructions for updating:\n",
            "Please use alternatives such as official/mnist/dataset.py from tensorflow/models.\n",
            "W0727 18:11:57.178676 140145501456256 deprecation.py:323] From /usr/local/lib/python3.6/dist-packages/tensorflow/contrib/learn/python/learn/datasets/mnist.py:260: maybe_download (from tensorflow.contrib.learn.python.learn.datasets.base) is deprecated and will be removed in a future version.\n",
            "Instructions for updating:\n",
            "Please write your own downloading logic.\n",
            "W0727 18:11:57.180489 140145501456256 deprecation.py:323] From /usr/local/lib/python3.6/dist-packages/tensorflow/contrib/learn/python/learn/datasets/base.py:252: _internal_retry.<locals>.wrap.<locals>.wrapped_fn (from tensorflow.contrib.learn.python.learn.datasets.base) is deprecated and will be removed in a future version.\n",
            "Instructions for updating:\n",
            "Please use urllib or similar directly.\n",
            "W0727 18:11:57.255538 140145501456256 deprecation.py:323] From /usr/local/lib/python3.6/dist-packages/tensorflow/contrib/learn/python/learn/datasets/mnist.py:262: extract_images (from tensorflow.contrib.learn.python.learn.datasets.mnist) is deprecated and will be removed in a future version.\n",
            "Instructions for updating:\n",
            "Please use tf.data to implement this functionality.\n"
          ],
          "name": "stderr"
        },
        {
          "output_type": "stream",
          "text": [
            "Successfully downloaded train-images-idx3-ubyte.gz 9912422 bytes.\n",
            "Extracting MNIST_data/train-images-idx3-ubyte.gz\n"
          ],
          "name": "stdout"
        },
        {
          "output_type": "stream",
          "text": [
            "W0727 18:11:57.570780 140145501456256 deprecation.py:323] From /usr/local/lib/python3.6/dist-packages/tensorflow/contrib/learn/python/learn/datasets/mnist.py:267: extract_labels (from tensorflow.contrib.learn.python.learn.datasets.mnist) is deprecated and will be removed in a future version.\n",
            "Instructions for updating:\n",
            "Please use tf.data to implement this functionality.\n",
            "W0727 18:11:57.573707 140145501456256 deprecation.py:323] From /usr/local/lib/python3.6/dist-packages/tensorflow/contrib/learn/python/learn/datasets/mnist.py:110: dense_to_one_hot (from tensorflow.contrib.learn.python.learn.datasets.mnist) is deprecated and will be removed in a future version.\n",
            "Instructions for updating:\n",
            "Please use tf.one_hot on tensors.\n",
            "W0727 18:11:57.668081 140145501456256 deprecation.py:323] From /usr/local/lib/python3.6/dist-packages/tensorflow/contrib/learn/python/learn/datasets/mnist.py:290: DataSet.__init__ (from tensorflow.contrib.learn.python.learn.datasets.mnist) is deprecated and will be removed in a future version.\n",
            "Instructions for updating:\n",
            "Please use alternatives such as official/mnist/dataset.py from tensorflow/models.\n"
          ],
          "name": "stderr"
        },
        {
          "output_type": "stream",
          "text": [
            "Successfully downloaded train-labels-idx1-ubyte.gz 28881 bytes.\n",
            "Extracting MNIST_data/train-labels-idx1-ubyte.gz\n",
            "Successfully downloaded t10k-images-idx3-ubyte.gz 1648877 bytes.\n",
            "Extracting MNIST_data/t10k-images-idx3-ubyte.gz\n",
            "Successfully downloaded t10k-labels-idx1-ubyte.gz 4542 bytes.\n",
            "Extracting MNIST_data/t10k-labels-idx1-ubyte.gz\n"
          ],
          "name": "stdout"
        }
      ]
    },
    {
      "cell_type": "markdown",
      "metadata": {
        "id": "CPVywMa8czJW",
        "colab_type": "text"
      },
      "source": [
        "### Model Building"
      ]
    },
    {
      "cell_type": "code",
      "metadata": {
        "trusted": true,
        "id": "ehQnIIcDczJY",
        "colab_type": "code",
        "outputId": "bde14444-15f7-445b-8b1e-2c5d65cdaafb",
        "colab": {
          "base_uri": "https://localhost:8080/",
          "height": 90
        }
      },
      "source": [
        "tf.reset_default_graph()\n",
        "\n",
        "x = tf.placeholder(tf.float32, [None, 784],name=\"x-in\")\n",
        "true_y = tf.placeholder(tf.float32, [None, 10],name=\"y-in\")\n",
        "keep_prob = tf.placeholder(\"float\")\n",
        "\n",
        "x_image = tf.reshape(x,[-1,28,28,1])\n",
        "hidden_1 = slim.conv2d(x_image,5,[5,5])\n",
        "pool_1 = slim.max_pool2d(hidden_1,[2,2])\n",
        "hidden_2 = slim.conv2d(pool_1,5,[5,5])\n",
        "pool_2 = slim.max_pool2d(hidden_2,[2,2])\n",
        "hidden_3 = slim.conv2d(pool_2,20,[5,5])\n",
        "hidden_3 = slim.dropout(hidden_3,keep_prob)\n",
        "out_y = slim.fully_connected(slim.flatten(hidden_3),10,activation_fn=tf.nn.softmax)\n",
        "\n",
        "cross_entropy = -tf.reduce_sum(true_y*tf.log(out_y))\n",
        "correct_prediction = tf.equal(tf.argmax(out_y,1), tf.argmax(true_y,1))\n",
        "accuracy = tf.reduce_mean(tf.cast(correct_prediction, \"float\"))\n",
        "train_step = tf.train.AdamOptimizer(1e-4).minimize(cross_entropy)"
      ],
      "execution_count": 0,
      "outputs": [
        {
          "output_type": "stream",
          "text": [
            "W0727 18:11:58.743405 140145501456256 deprecation.py:323] From /usr/local/lib/python3.6/dist-packages/tensorflow/contrib/layers/python/layers/layers.py:1634: flatten (from tensorflow.python.layers.core) is deprecated and will be removed in a future version.\n",
            "Instructions for updating:\n",
            "Use keras.layers.flatten instead.\n"
          ],
          "name": "stderr"
        }
      ]
    },
    {
      "cell_type": "markdown",
      "metadata": {
        "id": "1YMpmKsEczJi",
        "colab_type": "text"
      },
      "source": [
        "### Training"
      ]
    },
    {
      "cell_type": "code",
      "metadata": {
        "trusted": true,
        "id": "CEXRW_KHczJj",
        "colab_type": "code",
        "outputId": "3bc7ae73-b948-41ef-f233-b8dda222658a",
        "colab": {
          "base_uri": "https://localhost:8080/",
          "height": 194
        }
      },
      "source": [
        "batchSize = 50\n",
        "sess = tf.Session()\n",
        "init = tf.global_variables_initializer()\n",
        "sess.run(init)\n",
        "for i in range(1001):\n",
        "    batch = mnist.train.next_batch(batchSize)\n",
        "    sess.run(train_step, feed_dict={x:batch[0],true_y:batch[1], keep_prob:0.5})\n",
        "    if i % 100 == 0 and i != 0:\n",
        "        trainAccuracy = sess.run(accuracy, feed_dict={x:batch[0],true_y:batch[1], keep_prob:1.0})\n",
        "        print(\"step %d, training accuracy %g\"%(i, trainAccuracy))"
      ],
      "execution_count": 0,
      "outputs": [
        {
          "output_type": "stream",
          "text": [
            "step 100, training accuracy 0.16\n",
            "step 200, training accuracy 0.64\n",
            "step 300, training accuracy 0.76\n",
            "step 400, training accuracy 0.92\n",
            "step 500, training accuracy 0.9\n",
            "step 600, training accuracy 0.86\n",
            "step 700, training accuracy 0.86\n",
            "step 800, training accuracy 0.88\n",
            "step 900, training accuracy 0.84\n",
            "step 1000, training accuracy 0.92\n"
          ],
          "name": "stdout"
        }
      ]
    },
    {
      "cell_type": "markdown",
      "metadata": {
        "id": "VIDushp1czJp",
        "colab_type": "text"
      },
      "source": [
        "### Testing accuracy"
      ]
    },
    {
      "cell_type": "code",
      "metadata": {
        "trusted": true,
        "id": "bvY_MQQXczJr",
        "colab_type": "code",
        "outputId": "71754eb0-414c-4a1c-9499-3ac4b13e1c84",
        "colab": {
          "base_uri": "https://localhost:8080/",
          "height": 34
        }
      },
      "source": [
        "testAccuracy = sess.run(accuracy, feed_dict={x:mnist.test.images,true_y:mnist.test.labels, keep_prob:1.0})\n",
        "print(\"test accuracy %g\"%(testAccuracy))"
      ],
      "execution_count": 0,
      "outputs": [
        {
          "output_type": "stream",
          "text": [
            "test accuracy 0.912\n"
          ],
          "name": "stdout"
        }
      ]
    },
    {
      "cell_type": "markdown",
      "metadata": {
        "id": "I-ELAuLyczJz",
        "colab_type": "text"
      },
      "source": [
        "### Get activation values and plotting"
      ]
    },
    {
      "cell_type": "code",
      "metadata": {
        "trusted": true,
        "id": "CLFRJKARczJ1",
        "colab_type": "code",
        "colab": {}
      },
      "source": [
        "def getActivations(layer,stimuli):\n",
        "    units = sess.run(layer,feed_dict={x:np.reshape(stimuli,[1,784],order='F'),keep_prob:1.0})\n",
        "    plotNNFilter(units)\n",
        "    \n",
        "def plotNNFilter(units):\n",
        "    filters = units.shape[3]\n",
        "    plt.figure(1, figsize=(20,20))\n",
        "    n_columns = 6\n",
        "    n_rows = math.ceil(filters / n_columns) + 1\n",
        "    for i in range(filters):\n",
        "        plt.subplot(n_rows, n_columns, i+1)\n",
        "        plt.title('Filter ' + str(i))\n",
        "        plt.imshow(units[0,:,:,i], interpolation=\"nearest\", cmap=\"gray\")"
      ],
      "execution_count": 0,
      "outputs": []
    },
    {
      "cell_type": "markdown",
      "metadata": {
        "id": "7ormG-2hczJ4",
        "colab_type": "text"
      },
      "source": [
        "### Input Image"
      ]
    },
    {
      "cell_type": "code",
      "metadata": {
        "trusted": true,
        "id": "Iv-Wjr0aczJ5",
        "colab_type": "code",
        "outputId": "f7af9775-4fdc-446f-f28f-7593c97e3e14",
        "colab": {
          "base_uri": "https://localhost:8080/",
          "height": 286
        }
      },
      "source": [
        "imageToUse = mnist.test.images[10]\n",
        "plt.imshow(np.reshape(imageToUse,[28,28]), interpolation=\"nearest\", cmap=\"gray\")"
      ],
      "execution_count": 0,
      "outputs": [
        {
          "output_type": "execute_result",
          "data": {
            "text/plain": [
              "<matplotlib.image.AxesImage at 0x7f75dae254e0>"
            ]
          },
          "metadata": {
            "tags": []
          },
          "execution_count": 19
        },
        {
          "output_type": "display_data",
          "data": {
            "image/png": "[encoded data removed]",
            "text/plain": [
              "<Figure size 432x288 with 1 Axes>"
            ]
          },
          "metadata": {
            "tags": []
          }
        }
      ]
    },
    {
      "cell_type": "markdown",
      "metadata": {
        "id": "2DjKj4O_czJ-",
        "colab_type": "text"
      },
      "source": [
        "### Activation in Layer 1"
      ]
    },
    {
      "cell_type": "code",
      "metadata": {
        "trusted": true,
        "id": "kFmWWO4HczJ_",
        "colab_type": "code",
        "outputId": "6b068b6b-8cc8-47bd-df0f-7800968fdd80",
        "colab": {
          "base_uri": "https://localhost:8080/",
          "height": 222
        }
      },
      "source": [
        "getActivations(hidden_1,imageToUse)"
      ],
      "execution_count": 0,
      "outputs": [
        {
          "output_type": "display_data",
          "data": {
            "image/png": "[encoded data removed]",
            "text/plain": [
              "<Figure size 1440x1440 with 5 Axes>"
            ]
          },
          "metadata": {
            "tags": []
          }
        }
      ]
    },
    {
      "cell_type": "markdown",
      "metadata": {
        "id": "EMEYO72CczKD",
        "colab_type": "text"
      },
      "source": [
        "### Activation in Layer 2"
      ]
    },
    {
      "cell_type": "code",
      "metadata": {
        "trusted": true,
        "id": "FKUJZ_QaczKE",
        "colab_type": "code",
        "outputId": "44026c73-a46a-4c3b-b8f0-5d5506a6a456",
        "colab": {
          "base_uri": "https://localhost:8080/",
          "height": 222
        }
      },
      "source": [
        "getActivations(hidden_2,imageToUse)"
      ],
      "execution_count": 0,
      "outputs": [
        {
          "output_type": "display_data",
          "data": {
            "image/png": "[encoded data removed]",
            "text/plain": [
              "<Figure size 1440x1440 with 5 Axes>"
            ]
          },
          "metadata": {
            "tags": []
          }
        }
      ]
    },
    {
      "cell_type": "markdown",
      "metadata": {
        "id": "4wrdX3gCczKH",
        "colab_type": "text"
      },
      "source": [
        "### Activation in Layer 3"
      ]
    },
    {
      "cell_type": "code",
      "metadata": {
        "trusted": true,
        "id": "Di44EtawczKI",
        "colab_type": "code",
        "outputId": "ec75c8d5-bfc5-46c4-a4de-5fbfa5dc6e28",
        "colab": {
          "base_uri": "https://localhost:8080/",
          "height": 897
        }
      },
      "source": [
        "getActivations(hidden_3,imageToUse)"
      ],
      "execution_count": 0,
      "outputs": [
        {
          "output_type": "display_data",
          "data": {
            "image/png": "[encoded data removed]",
            "text/plain": [
              "<Figure size 1440x1440 with 20 Axes>"
            ]
          },
          "metadata": {
            "tags": []
          }
        }
      ]
    },
    {
      "cell_type": "markdown",
      "metadata": {
        "id": "6Xd6IQ1ZczKO",
        "colab_type": "text"
      },
      "source": [
        "# Part 4: Design Choices in Convolutional Neural Networks"
      ]
    },
    {
      "cell_type": "markdown",
      "metadata": {
        "id": "weHnDsMoczKO",
        "colab_type": "text"
      },
      "source": [
        "## Influence of convolution size"
      ]
    },
    {
      "cell_type": "markdown",
      "metadata": {
        "id": "xDmQdJkAczKP",
        "colab_type": "text"
      },
      "source": [
        "### Model with (3 x 3) Convolution"
      ]
    },
    {
      "cell_type": "code",
      "metadata": {
        "trusted": true,
        "id": "_LbhbPPwczKQ",
        "colab_type": "code",
        "outputId": "40d19baf-55a5-45a3-86b2-170f3de0e69f",
        "colab": {
          "base_uri": "https://localhost:8080/",
          "height": 474
        }
      },
      "source": [
        "K.clear_session()\n",
        "start = timeit.default_timer()   \n",
        "model = Sequential()\n",
        "model.add(Conv2D(8, kernel_size=(3, 3), activation='relu', input_shape=input_shape))\n",
        "model.add(Conv2D(16, (3, 3), activation='relu'))\n",
        "model.add(Flatten())\n",
        "model.add(Dense(32, activation='relu'))\n",
        "model.add(Dense(num_classes, activation='softmax'))\n",
        "model.summary()\n",
        "model.compile(loss=keras.losses.categorical_crossentropy, optimizer=keras.optimizers.Adadelta(), metrics=['accuracy'])\n",
        "model.fit(x_train, y_train, batch_size=batch_size, epochs=epochs, verbose=1, validation_data=(x_test, y_test))\n",
        "end = timeit.default_timer()\n",
        "print(\"Time Taken to run the model:\",end - start, \"seconds\")  "
      ],
      "execution_count": 0,
      "outputs": [
        {
          "output_type": "stream",
          "text": [
            "WARNING:tensorflow:From /usr/local/lib/python3.6/dist-packages/keras/backend/tensorflow_backend.py:107: The name tf.reset_default_graph is deprecated. Please use tf.compat.v1.reset_default_graph instead.\n",
            "\n",
            "Model: \"sequential_1\"\n",
            "_________________________________________________________________\n",
            "Layer (type)                 Output Shape              Param #   \n",
            "=================================================================\n",
            "conv2d_1 (Conv2D)            (None, 26, 26, 8)         80        \n",
            "_________________________________________________________________\n",
            "conv2d_2 (Conv2D)            (None, 24, 24, 16)        1168      \n",
            "_________________________________________________________________\n",
            "flatten_1 (Flatten)          (None, 9216)              0         \n",
            "_________________________________________________________________\n",
            "dense_1 (Dense)              (None, 32)                294944    \n",
            "_________________________________________________________________\n",
            "dense_2 (Dense)              (None, 10)                330       \n",
            "=================================================================\n",
            "Total params: 296,522\n",
            "Trainable params: 296,522\n",
            "Non-trainable params: 0\n",
            "_________________________________________________________________\n",
            "Train on 60000 samples, validate on 10000 samples\n",
            "Epoch 1/2\n",
            "60000/60000 [==============================] - 36s 595us/step - loss: 0.2562 - acc: 0.9224 - val_loss: 0.0807 - val_acc: 0.9737\n",
            "Epoch 2/2\n",
            "60000/60000 [==============================] - 38s 625us/step - loss: 0.0735 - acc: 0.9784 - val_loss: 0.0595 - val_acc: 0.9818\n",
            "Time Taken to run the model: 73.62484016500002 seconds\n"
          ],
          "name": "stdout"
        }
      ]
    },
    {
      "cell_type": "markdown",
      "metadata": {
        "id": "0DnVhOxDczKS",
        "colab_type": "text"
      },
      "source": [
        "### Model with (7 x 7) Convolution"
      ]
    },
    {
      "cell_type": "code",
      "metadata": {
        "trusted": true,
        "id": "oQopxYu5czKT",
        "colab_type": "code",
        "colab": {}
      },
      "source": [
        "K.clear_session()\n",
        "start = timeit.default_timer()   \n",
        "model = Sequential()\n",
        "model.add(Conv2D(8, kernel_size=(9, 9), activation='relu', input_shape=input_shape))\n",
        "model.add(Conv2D(16, (9, 9), activation='relu'))\n",
        "model.add(Flatten())\n",
        "model.add(Dense(32, activation='relu'))\n",
        "model.add(Dense(num_classes, activation='softmax'))\n",
        "model.summary()\n",
        "model.compile(loss=keras.losses.categorical_crossentropy, optimizer=keras.optimizers.Adadelta(), metrics=['accuracy'])\n",
        "model.fit(x_train, y_train, batch_size=batch_size, epochs=epochs, verbose=1, validation_data=(x_test, y_test))\n",
        "end = timeit.default_timer()\n",
        "print(\"Time Taken to run the model:\",end - start, \"seconds\")  "
      ],
      "execution_count": 0,
      "outputs": []
    },
    {
      "cell_type": "markdown",
      "metadata": {
        "id": "nbjj4YUAczKW",
        "colab_type": "text"
      },
      "source": [
        "## Striding"
      ]
    },
    {
      "cell_type": "markdown",
      "metadata": {
        "id": "pr45UR1uczKW",
        "colab_type": "text"
      },
      "source": [
        "### Model with (7 x 7) Convolution with 2 Steps"
      ]
    },
    {
      "cell_type": "code",
      "metadata": {
        "trusted": true,
        "id": "CUB3Zt_9czKX",
        "colab_type": "code",
        "colab": {}
      },
      "source": [
        "start = timeit.default_timer()   \n",
        "model = Sequential()\n",
        "model.add(Conv2D(8, kernel_size=(7, 7), strides=2, activation='relu', input_shape=input_shape))\n",
        "model.add(Conv2D(16, (7, 7), strides=2, activation='relu'))\n",
        "model.add(Flatten())\n",
        "model.add(Dense(32, activation='relu'))\n",
        "model.add(Dense(num_classes, activation='softmax'))\n",
        "model.summary()\n",
        "model.compile(loss=keras.losses.categorical_crossentropy, optimizer=keras.optimizers.Adadelta(), metrics=['accuracy'])\n",
        "model.fit(x_train, y_train, batch_size=batch_size, epochs=epochs, verbose=1, validation_data=(x_test, y_test))\n",
        "end = timeit.default_timer()\n",
        "print(\"Time Taken to run the model:\",end - start, \"seconds\")  "
      ],
      "execution_count": 0,
      "outputs": []
    },
    {
      "cell_type": "markdown",
      "metadata": {
        "id": "vsIaUMRIczKb",
        "colab_type": "text"
      },
      "source": [
        "## Padding"
      ]
    },
    {
      "cell_type": "markdown",
      "metadata": {
        "id": "C8GP6BmVczKd",
        "colab_type": "text"
      },
      "source": [
        "### Model with (7 x 7) Convolution with Same Padding"
      ]
    },
    {
      "cell_type": "code",
      "metadata": {
        "trusted": true,
        "id": "SZNcZ0BoczKe",
        "colab_type": "code",
        "colab": {}
      },
      "source": [
        "start = timeit.default_timer()   \n",
        "model = Sequential()\n",
        "model.add(Conv2D(8, kernel_size=(7, 7), strides=1, padding='same', activation='relu', input_shape=input_shape))\n",
        "model.add(Conv2D(16, (7, 7), strides=1, padding='same', activation='relu'))\n",
        "model.add(Flatten())\n",
        "model.add(Dense(32, activation='relu'))\n",
        "model.add(Dense(num_classes, activation='softmax'))\n",
        "model.summary()\n",
        "model.compile(loss=keras.losses.categorical_crossentropy, optimizer=keras.optimizers.Adadelta(), metrics=['accuracy'])\n",
        "model.fit(x_train, y_train, batch_size=batch_size, epochs=epochs, verbose=1, validation_data=(x_test, y_test))\n",
        "end = timeit.default_timer()\n",
        "print(\"Time Taken to run the model:\",end - start, \"seconds\")  "
      ],
      "execution_count": 0,
      "outputs": []
    },
    {
      "cell_type": "markdown",
      "metadata": {
        "id": "KvGFyAkjczKj",
        "colab_type": "text"
      },
      "source": [
        "## Pooling"
      ]
    },
    {
      "cell_type": "markdown",
      "metadata": {
        "id": "R1W63cBLczKk",
        "colab_type": "text"
      },
      "source": [
        "### Model with (3 x 3) Convolution with Pooling (2 x 2) "
      ]
    },
    {
      "cell_type": "code",
      "metadata": {
        "trusted": true,
        "id": "-qOGWya1czKl",
        "colab_type": "code",
        "colab": {}
      },
      "source": [
        "start = timeit.default_timer()   \n",
        "model = Sequential()\n",
        "model.add(Conv2D(8, kernel_size=(3, 3), activation='relu', input_shape=input_shape))\n",
        "model.add(MaxPooling2D(pool_size=(2, 2)))\n",
        "model.add(Conv2D(16, (3, 3), activation='relu'))\n",
        "model.add(MaxPooling2D(pool_size=(2, 2)))\n",
        "model.add(Flatten())\n",
        "model.add(Dense(32, activation='relu'))\n",
        "model.add(Dense(num_classes, activation='softmax'))\n",
        "model.summary()\n",
        "model.compile(loss=keras.losses.categorical_crossentropy, optimizer=keras.optimizers.Adadelta(), metrics=['accuracy'])\n",
        "model.fit(x_train, y_train, batch_size=batch_size, epochs=epochs, verbose=1, validation_data=(x_test, y_test))\n",
        "end = timeit.default_timer()\n",
        "print(\"Time Taken to run the model:\",end - start, \"seconds\")  "
      ],
      "execution_count": 0,
      "outputs": []
    },
    {
      "cell_type": "markdown",
      "metadata": {
        "id": "BUBHv14oczKp",
        "colab_type": "text"
      },
      "source": [
        "### Model with (3 x 3) Convolution with Pooling (3 x 3) "
      ]
    },
    {
      "cell_type": "code",
      "metadata": {
        "trusted": true,
        "id": "z3iYWjRDczKr",
        "colab_type": "code",
        "colab": {}
      },
      "source": [
        "# Write your code here \n",
        "\n",
        "# Use the same model design from the above cell "
      ],
      "execution_count": 0,
      "outputs": []
    },
    {
      "cell_type": "markdown",
      "metadata": {
        "id": "FXIX6ZHRczKv",
        "colab_type": "text"
      },
      "source": [
        "### What are your findings?"
      ]
    }
  ]
}